{
 "cells": [
  {
   "cell_type": "code",
   "execution_count": 1,
   "metadata": {},
   "outputs": [],
   "source": [
    "import os\n",
    "import link\n",
    "import numpy as np\n",
    "import pandas as pd\n"
   ]
  },
  {
   "cell_type": "code",
   "execution_count": 2,
   "metadata": {},
   "outputs": [],
   "source": [
    "\n",
    "class programe():\n",
    "    def __init__(self):\n",
    "        self.path= r\"C:\\Users\\LHD\\Desktop\\IDEC 2023\\Conformation\\molecule\"\n",
    "        self.times=10\n",
    "        self.delta=[x/10 for x in range(21)]#[0.0,0.1__2.0]\n",
    "        self.concat=True\n",
    "        self.creat_csv=False\n",
    "        self.link_h_ignore=True\n",
    "        #一些基本参数path文件路径,'0':1创建字符：数字对应关系\n",
    "        \n",
    "        for i in ['\\\\input','\\\\output','\\\\information']:\n",
    "            check=os.path.exists(self.path+i)\n",
    "            if check!=True:\n",
    "                os.makedirs(self.path+i)\n",
    "        #检验当前目录下是否有input/output/information文件夹\n",
    "\n",
    "        filelist=os.listdir(self.path+'\\\\input')\n",
    "        #遍历所有文件\n",
    "\n",
    "\n",
    "\n",
    "        total_num=len(filelist)\n",
    "        self.total_num=total_num\n",
    "        self.filelist=filelist\n",
    "        #整理后传参\n",
    "\n",
    "pro=programe()"
   ]
  },
  {
   "cell_type": "code",
   "execution_count": 3,
   "metadata": {},
   "outputs": [
    {
     "ename": "FileNotFoundError",
     "evalue": "[Errno 2] No such file or directory: 'C:\\\\Users\\\\LHD\\\\Desktop\\\\IDEC 2023\\\\Conformation\\\\test\\\\output\\\\new_0001.pdb_re.csv'",
     "output_type": "error",
     "traceback": [
      "\u001b[1;31m---------------------------------------------------------------------------\u001b[0m",
      "\u001b[1;31mFileNotFoundError\u001b[0m                         Traceback (most recent call last)",
      "Cell \u001b[1;32mIn[3], line 2\u001b[0m\n\u001b[0;32m      1\u001b[0m \u001b[39mfor\u001b[39;00m filename \u001b[39min\u001b[39;00m pro\u001b[39m.\u001b[39mfilelist:\n\u001b[1;32m----> 2\u001b[0m         link_dic\u001b[39m=\u001b[39mlink\u001b[39m.\u001b[39;49mlink_check(pro,filename)\u001b[39m#use bond length to assume link\u001b[39;00m\n\u001b[0;32m      3\u001b[0m         pro_link_dic,var_diheral_dic\u001b[39m=\u001b[39mlink\u001b[39m.\u001b[39mlink_process(link_dic)\n\u001b[0;32m      6\u001b[0m         filein \u001b[39m=\u001b[39m \u001b[39mopen\u001b[39m(pro\u001b[39m.\u001b[39mpath \u001b[39m+\u001b[39m\n\u001b[0;32m      7\u001b[0m                           \u001b[39mr\u001b[39m\u001b[39m\"\u001b[39m\u001b[39m\\\u001b[39m\u001b[39moutput\u001b[39m\u001b[39m\"\u001b[39m\u001b[39m+\u001b[39m\u001b[39m'\u001b[39m\u001b[39m\\\\\u001b[39;00m\u001b[39m'\u001b[39m\u001b[39m+\u001b[39mfilename\u001b[39m+\u001b[39m\u001b[39m'\u001b[39m\u001b[39m_re.csv\u001b[39m\u001b[39m'\u001b[39m, \u001b[39m'\u001b[39m\u001b[39mrt\u001b[39m\u001b[39m'\u001b[39m)\n",
      "File \u001b[1;32mc:\\Users\\LHD\\Desktop\\IDEC 2023\\py_files\\body\\link.py:7\u001b[0m, in \u001b[0;36mlink_check\u001b[1;34m(programe, filename)\u001b[0m\n\u001b[0;32m      5\u001b[0m \u001b[39mdef\u001b[39;00m \u001b[39mlink_check\u001b[39m(programe,filename):\n\u001b[1;32m----> 7\u001b[0m     filein \u001b[39m=\u001b[39m \u001b[39mopen\u001b[39;49m(programe\u001b[39m.\u001b[39;49mpath \u001b[39m+\u001b[39;49m\u001b[39mr\u001b[39;49m\u001b[39m\"\u001b[39;49m\u001b[39m\\\u001b[39;49m\u001b[39moutput\u001b[39;49m\u001b[39m\"\u001b[39;49m\u001b[39m+\u001b[39;49m\u001b[39m'\u001b[39;49m\u001b[39m\\\\\u001b[39;49;00m\u001b[39m'\u001b[39;49m\u001b[39m+\u001b[39;49mfilename\u001b[39m+\u001b[39;49m\u001b[39m'\u001b[39;49m\u001b[39m_re.csv\u001b[39;49m\u001b[39m'\u001b[39;49m, \u001b[39m'\u001b[39;49m\u001b[39mrt\u001b[39;49m\u001b[39m'\u001b[39;49m)\n\u001b[0;32m      8\u001b[0m     df \u001b[39m=\u001b[39m pd\u001b[39m.\u001b[39mread_csv(filein)\n\u001b[0;32m      9\u001b[0m     filein\u001b[39m.\u001b[39mclose()\n",
      "\u001b[1;31mFileNotFoundError\u001b[0m: [Errno 2] No such file or directory: 'C:\\\\Users\\\\LHD\\\\Desktop\\\\IDEC 2023\\\\Conformation\\\\test\\\\output\\\\new_0001.pdb_re.csv'"
     ]
    }
   ],
   "source": [
    "\n",
    "    \n",
    "for filename in pro.filelist:\n",
    "        link_dic=link.link_check(pro,filename)#use bond length to assume link\n",
    "        pro_link_dic,var_diheral_dic=link.link_process(link_dic)\n",
    "\n",
    "\n",
    "        filein = open(pro.path +\n",
    "                          r\"\\output\"+'\\\\'+filename+'_re.csv', 'rt')\n",
    "        df = pd.read_csv(filein)\n",
    "        filein.close()\n",
    "        #load the atom location as a dataframe\n",
    "        \n",
    "        n=0\n",
    "\n",
    "        new_lis_n=[]#['10', '5', '12', '6', '14', '3', '17', '14']\n",
    "        new_lis_an=[]#['O10', 'C5', 'O12', 'C6', 'C14', 'C3', 'C17', 'C14']\n",
    "        tier_0=link_dic.copy()\n",
    "\n",
    "        for i in var_diheral_dic.items():#copy into two list for futher import\n",
    "            for k in i: \n",
    "                new_lis_an.append(k)\n",
    "                k=\"\".join(filter(str.isdigit, k))\n",
    "                new_lis_n.append(k)\n",
    "\n",
    "        for i in range(0,len(new_lis_n),2):\n",
    "            \n",
    "            k=int(new_lis_n[i])-1\n",
    "            an2=new_lis_an[i]\n",
    "            an3=new_lis_an[i+1]\n",
    "\n",
    "            if pro.link_h_ignore:#ususally the atom H shows a low contribution to the system energy\n",
    "                for i in [an2,an3]:\n",
    "                    lin_lis=[]\n",
    "                    for n in tier_0[i]:\n",
    "                        if 'h' not in n:\n",
    "                            lin_lis.append(n)\n",
    "                    tier_0[i]=lin_lis\n",
    "    \n",
    "\n",
    "            if len(tier_0[an2])==1:\n",
    "                an1=0\n",
    "                an4=tier_0[an3][1].upper()\n",
    "\n",
    "            elif len(tier_0[an3])==1:\n",
    "                an1=tier_0[an2][1].upper()\n",
    "                an4=0\n",
    "\n",
    "            else:\n",
    "                an1=tier_0[an2][1].upper()\n",
    "                an4=tier_0[an3][1].upper()\n",
    "            \n",
    "            tier_1=[]\n",
    "            tier_1.append(tier_0[an3])\n",
    "\n",
    "            print(an2,tier_0[an2],an3,tier_0[an3])\n",
    "\n",
    "        \n",
    "\n",
    "\n"
   ]
  },
  {
   "cell_type": "markdown",
   "metadata": {},
   "source": []
  }
 ],
 "metadata": {
  "kernelspec": {
   "display_name": "Python 3",
   "language": "python",
   "name": "python3"
  },
  "language_info": {
   "codemirror_mode": {
    "name": "ipython",
    "version": 3
   },
   "file_extension": ".py",
   "mimetype": "text/x-python",
   "name": "python",
   "nbconvert_exporter": "python",
   "pygments_lexer": "ipython3",
   "version": "3.11.1"
  },
  "orig_nbformat": 4
 },
 "nbformat": 4,
 "nbformat_minor": 2
}
