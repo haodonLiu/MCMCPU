{
 "cells": [
  {
   "cell_type": "code",
   "execution_count": 2,
   "metadata": {},
   "outputs": [],
   "source": [
    "from ase.io import read as aseread\n",
    "\n",
    "def std_angle(x):\n",
    "    return x if x < 180 else x - 360\n",
    "\n",
    "def genCartesianString(xyz_file):\n",
    "    atom = aseread(xyz_file)\n",
    "    string = ''\n",
    "    symbols = list(atom.symbols)\n",
    "    print(symbols)\n",
    "    for idx in range(len(atom)):\n",
    "        if idx == 0:\n",
    "            string = '%3s\\n'%symbols[idx]\n",
    "        elif idx == 1:\n",
    "            string += '%3s %3d %20.8f\\n'%(symbols[idx],1,atom.get_distance(0,idx))\n",
    "        elif idx == 2:\n",
    "            string += '%3s %3d %20.8f %3d %20.8f\\n'%(symbols[idx],2,atom.get_distance(1,idx),1,\n",
    "                                                 std_angle(atom.get_angle(0,1,idx)))\n",
    "        else:\n",
    "            string += '%3s %3d %20.8f %3d %20.8f %3d %20.8f\\n'%(symbols[idx],idx,atom.get_distance(idx,idx-1),idx-1,\n",
    "                                                          std_angle(atom.get_angle(idx,idx-1,idx-2)),\n",
    "                                                          idx-2,std_angle(atom.get_dihedral(idx-3,idx-2,idx-1,idx)))\n",
    "    return string"
   ]
  },
  {
   "cell_type": "code",
   "execution_count": 3,
   "metadata": {},
   "outputs": [
    {
     "name": "stdout",
     "output_type": "stream",
     "text": [
      "['O', 'C', 'O', 'C', 'C', 'H', 'N', 'C', 'O', 'N', 'C', 'H', 'C', 'O', 'O', 'C', 'C', 'C', 'C', 'C', 'C', 'C', 'C', 'H', 'H', 'H', 'H', 'H', 'H', 'H', 'H', 'H', 'H', 'H', 'H', 'H', 'H', 'H', 'H']\n"
     ]
    }
   ],
   "source": [
    "with open(r'C:\\Users\\LHD\\Downloads\\Aspartame7.xyz','rt') as xyz_file:\n",
    "   string=genCartesianString(xyz_file) \n",
    "   print(sring)"
   ]
  }
 ],
 "metadata": {
  "kernelspec": {
   "display_name": "Python 3",
   "language": "python",
   "name": "python3"
  },
  "language_info": {
   "codemirror_mode": {
    "name": "ipython",
    "version": 3
   },
   "file_extension": ".py",
   "mimetype": "text/x-python",
   "name": "python",
   "nbconvert_exporter": "python",
   "pygments_lexer": "ipython3",
   "version": "3.11.1"
  },
  "orig_nbformat": 4
 },
 "nbformat": 4,
 "nbformat_minor": 2
}
